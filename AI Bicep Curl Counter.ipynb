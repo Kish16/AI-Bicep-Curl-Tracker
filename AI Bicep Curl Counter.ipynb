{
 "cells": [
  {
   "cell_type": "code",
   "execution_count": 1,
   "id": "271468aa-6f2e-4d02-90d7-1b9653765614",
   "metadata": {},
   "outputs": [
    {
     "name": "stdout",
     "output_type": "stream",
     "text": [
      "Requirement already satisfied: mediapipe in c:\\users\\kisha\\new folder\\lib\\site-packages (0.9.1.0)\n",
      "Requirement already satisfied: opencv-python in c:\\users\\kisha\\new folder\\lib\\site-packages (4.7.0.72)\n",
      "Requirement already satisfied: attrs>=19.1.0 in c:\\users\\kisha\\new folder\\lib\\site-packages (from mediapipe) (21.4.0)\n",
      "Requirement already satisfied: opencv-contrib-python in c:\\users\\kisha\\new folder\\lib\\site-packages (from mediapipe) (4.7.0.72)\n",
      "Requirement already satisfied: absl-py in c:\\users\\kisha\\new folder\\lib\\site-packages (from mediapipe) (1.4.0)\n",
      "Requirement already satisfied: numpy in c:\\users\\kisha\\new folder\\lib\\site-packages (from mediapipe) (1.21.5)\n",
      "Requirement already satisfied: flatbuffers>=2.0 in c:\\users\\kisha\\new folder\\lib\\site-packages (from mediapipe) (23.1.21)\n",
      "Requirement already satisfied: matplotlib in c:\\users\\kisha\\new folder\\lib\\site-packages (from mediapipe) (3.5.2)\n",
      "Requirement already satisfied: protobuf<4,>=3.11 in c:\\users\\kisha\\new folder\\lib\\site-packages (from mediapipe) (3.20.3)\n",
      "Requirement already satisfied: pillow>=6.2.0 in c:\\users\\kisha\\new folder\\lib\\site-packages (from matplotlib->mediapipe) (9.2.0)\n",
      "Requirement already satisfied: python-dateutil>=2.7 in c:\\users\\kisha\\new folder\\lib\\site-packages (from matplotlib->mediapipe) (2.8.2)\n",
      "Requirement already satisfied: pyparsing>=2.2.1 in c:\\users\\kisha\\new folder\\lib\\site-packages (from matplotlib->mediapipe) (3.0.9)\n",
      "Requirement already satisfied: packaging>=20.0 in c:\\users\\kisha\\new folder\\lib\\site-packages (from matplotlib->mediapipe) (21.3)\n",
      "Requirement already satisfied: fonttools>=4.22.0 in c:\\users\\kisha\\new folder\\lib\\site-packages (from matplotlib->mediapipe) (4.25.0)\n",
      "Requirement already satisfied: kiwisolver>=1.0.1 in c:\\users\\kisha\\new folder\\lib\\site-packages (from matplotlib->mediapipe) (1.4.2)\n",
      "Requirement already satisfied: cycler>=0.10 in c:\\users\\kisha\\new folder\\lib\\site-packages (from matplotlib->mediapipe) (0.11.0)\n",
      "Requirement already satisfied: six>=1.5 in c:\\users\\kisha\\new folder\\lib\\site-packages (from python-dateutil>=2.7->matplotlib->mediapipe) (1.16.0)\n"
     ]
    }
   ],
   "source": [
    "!pip install mediapipe opencv-python"
   ]
  },
  {
   "cell_type": "code",
   "execution_count": 2,
   "id": "092622a7-de4c-45f4-89e4-f22c9c42f083",
   "metadata": {},
   "outputs": [],
   "source": [
    "import cv2\n",
    "import mediapipe as mp\n",
    "import numpy as np\n",
    "mp_drawing = mp.solutions.drawing_utils\n",
    "mp_pose = mp.solutions.pose"
   ]
  },
  {
   "cell_type": "code",
   "execution_count": 3,
   "id": "73f3222e-2fe4-4cfb-8663-5fccc2ce33e7",
   "metadata": {},
   "outputs": [],
   "source": [
    "#Video Feed\n",
    "cap = cv2.VideoCapture(0)\n",
    "while cap.isOpened():\n",
    "    ret, frame = cap.read()\n",
    "    cv2.imshow('Mediapipe Feed', frame)\n",
    "    \n",
    "    if cv2.waitKey(10) & 0xFF == ord('q'):\n",
    "        break\n",
    "        \n",
    "cap.release()\n",
    "cv2.destroyAllWindows()"
   ]
  },
  {
   "cell_type": "code",
   "execution_count": 6,
   "id": "236af7fe-4b5b-4e74-a0d9-c4e19ef62812",
   "metadata": {},
   "outputs": [],
   "source": [
    "cap = cv2.VideoCapture(0)\n",
    "#Setup Mediapipe instance\n",
    "with mp_pose.Pose(min_detection_confidence=0.5, min_tracking_confidence=0.5) as pose:\n",
    "    while cap.isOpened():\n",
    "        ret, frame = cap.read()\n",
    "        \n",
    "        #Recolour image to RGB\n",
    "        image = cv2.cvtColor(frame, cv2.COLOR_BGR2RGB)\n",
    "        image.flags.writeable = False\n",
    "        #Make detection\n",
    "        results = pose.process(image)\n",
    "        #Recolour back to BGR\n",
    "        image.flags.writeable = True\n",
    "        image = cv2.cvtColor(image, cv2.COLOR_RGB2BGR)\n",
    "        \n",
    "        #Render detections\n",
    "        mp_drawing.draw_landmarks(image, results.pose_landmarks, mp_pose.POSE_CONNECTIONS,\n",
    "                                 mp_drawing.DrawingSpec(color=(245,117,66), thickness=2, circle_radius=2),\n",
    "                                 mp_drawing.DrawingSpec(color=(245,66,230), thickness=2, circle_radius=2))\n",
    "        \n",
    "        cv2.imshow('Mediapipe Feed', image)\n",
    "    \n",
    "        if cv2.waitKey(10) & 0xFF == ord('q'):\n",
    "            break\n",
    "        \n",
    "    cap.release()\n",
    "    cv2.destroyAllWindows()\n"
   ]
  },
  {
   "cell_type": "code",
   "execution_count": 7,
   "id": "754955f7-d316-4875-8bcb-90cc1d418675",
   "metadata": {},
   "outputs": [
    {
     "data": {
      "text/plain": [
       "landmark {\n",
       "  x: 0.34775933623313904\n",
       "  y: 0.4976591169834137\n",
       "  z: -1.0402480363845825\n",
       "  visibility: 0.999876081943512\n",
       "}\n",
       "landmark {\n",
       "  x: 0.37631556391716003\n",
       "  y: 0.4315013885498047\n",
       "  z: -0.9868282079696655\n",
       "  visibility: 0.99970543384552\n",
       "}\n",
       "landmark {\n",
       "  x: 0.39695435762405396\n",
       "  y: 0.4309886395931244\n",
       "  z: -0.9869776964187622\n",
       "  visibility: 0.9997581243515015\n",
       "}\n",
       "landmark {\n",
       "  x: 0.4167412221431732\n",
       "  y: 0.43121907114982605\n",
       "  z: -0.9872092008590698\n",
       "  visibility: 0.9996839761734009\n",
       "}\n",
       "landmark {\n",
       "  x: 0.317853182554245\n",
       "  y: 0.4386558532714844\n",
       "  z: -0.9839323163032532\n",
       "  visibility: 0.9996775984764099\n",
       "}\n",
       "landmark {\n",
       "  x: 0.30136439204216003\n",
       "  y: 0.44272011518478394\n",
       "  z: -0.9832574129104614\n",
       "  visibility: 0.9997343420982361\n",
       "}\n",
       "landmark {\n",
       "  x: 0.2846006751060486\n",
       "  y: 0.4472369849681854\n",
       "  z: -0.983658492565155\n",
       "  visibility: 0.9996687173843384\n",
       "}\n",
       "landmark {\n",
       "  x: 0.4434828758239746\n",
       "  y: 0.4613761007785797\n",
       "  z: -0.583211362361908\n",
       "  visibility: 0.9997037649154663\n",
       "}\n",
       "landmark {\n",
       "  x: 0.2671224772930145\n",
       "  y: 0.4839412271976471\n",
       "  z: -0.5425221920013428\n",
       "  visibility: 0.9997227787971497\n",
       "}\n",
       "landmark {\n",
       "  x: 0.39589831233024597\n",
       "  y: 0.5628379583358765\n",
       "  z: -0.8849779963493347\n",
       "  visibility: 0.9998685121536255\n",
       "}\n",
       "landmark {\n",
       "  x: 0.3169374167919159\n",
       "  y: 0.5655737519264221\n",
       "  z: -0.8735812306404114\n",
       "  visibility: 0.9998509883880615\n",
       "}\n",
       "landmark {\n",
       "  x: 0.6070365905761719\n",
       "  y: 0.8143721222877502\n",
       "  z: -0.33275106549263\n",
       "  visibility: 0.99830561876297\n",
       "}\n",
       "landmark {\n",
       "  x: 0.14680561423301697\n",
       "  y: 0.8344419002532959\n",
       "  z: -0.3794434666633606\n",
       "  visibility: 0.9984359741210938\n",
       "}\n",
       "landmark {\n",
       "  x: 0.684847354888916\n",
       "  y: 1.2444583177566528\n",
       "  z: -0.3005923628807068\n",
       "  visibility: 0.14099782705307007\n",
       "}\n",
       "landmark {\n",
       "  x: 0.08502401411533356\n",
       "  y: 1.2670941352844238\n",
       "  z: -0.3514111340045929\n",
       "  visibility: 0.165436252951622\n",
       "}\n",
       "landmark {\n",
       "  x: 0.6854010820388794\n",
       "  y: 1.5555452108383179\n",
       "  z: -0.6420073509216309\n",
       "  visibility: 0.019957663491368294\n",
       "}\n",
       "landmark {\n",
       "  x: 0.06897348910570145\n",
       "  y: 1.576397180557251\n",
       "  z: -0.8965319395065308\n",
       "  visibility: 0.034070972353219986\n",
       "}\n",
       "landmark {\n",
       "  x: 0.7059181928634644\n",
       "  y: 1.6730952262878418\n",
       "  z: -0.7516319155693054\n",
       "  visibility: 0.029655780643224716\n",
       "}\n",
       "landmark {\n",
       "  x: 0.04295836761593819\n",
       "  y: 1.6874175071716309\n",
       "  z: -1.0472936630249023\n",
       "  visibility: 0.04550115764141083\n",
       "}\n",
       "landmark {\n",
       "  x: 0.6457427740097046\n",
       "  y: 1.6787323951721191\n",
       "  z: -0.8255816698074341\n",
       "  visibility: 0.054966703057289124\n",
       "}\n",
       "landmark {\n",
       "  x: 0.08802824467420578\n",
       "  y: 1.6945687532424927\n",
       "  z: -1.147706389427185\n",
       "  visibility: 0.07951620221138\n",
       "}\n",
       "landmark {\n",
       "  x: 0.6300657987594604\n",
       "  y: 1.6274702548980713\n",
       "  z: -0.6908981800079346\n",
       "  visibility: 0.051966581493616104\n",
       "}\n",
       "landmark {\n",
       "  x: 0.10866844654083252\n",
       "  y: 1.6453478336334229\n",
       "  z: -0.9622336626052856\n",
       "  visibility: 0.07881933450698853\n",
       "}\n",
       "landmark {\n",
       "  x: 0.5432810187339783\n",
       "  y: 1.615118145942688\n",
       "  z: -0.06501661241054535\n",
       "  visibility: 0.0004627321904990822\n",
       "}\n",
       "landmark {\n",
       "  x: 0.23677614331245422\n",
       "  y: 1.6261767148971558\n",
       "  z: 0.07010772824287415\n",
       "  visibility: 0.0004768728103954345\n",
       "}\n",
       "landmark {\n",
       "  x: 0.5426071286201477\n",
       "  y: 2.251224994659424\n",
       "  z: 0.11848451942205429\n",
       "  visibility: 0.0007602443802170455\n",
       "}\n",
       "landmark {\n",
       "  x: 0.2527316212654114\n",
       "  y: 2.261713743209839\n",
       "  z: 0.19806741178035736\n",
       "  visibility: 0.00021919024584349245\n",
       "}\n",
       "landmark {\n",
       "  x: 0.5510705709457397\n",
       "  y: 2.81791090965271\n",
       "  z: 0.8745549321174622\n",
       "  visibility: 0.00014028415898792446\n",
       "}\n",
       "landmark {\n",
       "  x: 0.27525216341018677\n",
       "  y: 2.823748826980591\n",
       "  z: 0.7630900740623474\n",
       "  visibility: 1.4827808627160266e-05\n",
       "}\n",
       "landmark {\n",
       "  x: 0.5613318085670471\n",
       "  y: 2.912930965423584\n",
       "  z: 0.9177404642105103\n",
       "  visibility: 9.309636516263708e-05\n",
       "}\n",
       "landmark {\n",
       "  x: 0.27849793434143066\n",
       "  y: 2.918595314025879\n",
       "  z: 0.8005706071853638\n",
       "  visibility: 4.9236703489441425e-05\n",
       "}\n",
       "landmark {\n",
       "  x: 0.500230610370636\n",
       "  y: 3.005016565322876\n",
       "  z: 0.32335108518600464\n",
       "  visibility: 0.00010300089343218133\n",
       "}\n",
       "landmark {\n",
       "  x: 0.3167990446090698\n",
       "  y: 3.0011086463928223\n",
       "  z: 0.1524852216243744\n",
       "  visibility: 7.673051732126623e-05\n",
       "}"
      ]
     },
     "execution_count": 7,
     "metadata": {},
     "output_type": "execute_result"
    }
   ],
   "source": [
    "results.pose_landmarks"
   ]
  },
  {
   "cell_type": "code",
   "execution_count": 8,
   "id": "6df67010-09f8-484f-afdf-82b88d56b352",
   "metadata": {},
   "outputs": [
    {
     "data": {
      "text/plain": [
       "frozenset({(0, 1),\n",
       "           (0, 4),\n",
       "           (1, 2),\n",
       "           (2, 3),\n",
       "           (3, 7),\n",
       "           (4, 5),\n",
       "           (5, 6),\n",
       "           (6, 8),\n",
       "           (9, 10),\n",
       "           (11, 12),\n",
       "           (11, 13),\n",
       "           (11, 23),\n",
       "           (12, 14),\n",
       "           (12, 24),\n",
       "           (13, 15),\n",
       "           (14, 16),\n",
       "           (15, 17),\n",
       "           (15, 19),\n",
       "           (15, 21),\n",
       "           (16, 18),\n",
       "           (16, 20),\n",
       "           (16, 22),\n",
       "           (17, 19),\n",
       "           (18, 20),\n",
       "           (23, 24),\n",
       "           (23, 25),\n",
       "           (24, 26),\n",
       "           (25, 27),\n",
       "           (26, 28),\n",
       "           (27, 29),\n",
       "           (27, 31),\n",
       "           (28, 30),\n",
       "           (28, 32),\n",
       "           (29, 31),\n",
       "           (30, 32)})"
      ]
     },
     "execution_count": 8,
     "metadata": {},
     "output_type": "execute_result"
    }
   ],
   "source": [
    "mp_pose.POSE_CONNECTIONS"
   ]
  },
  {
   "cell_type": "code",
   "execution_count": 9,
   "id": "b784b4ed-4307-47d6-ad0d-2105b46b997b",
   "metadata": {},
   "outputs": [
    {
     "data": {
      "text/plain": [
       "\u001b[1;31mInit signature:\u001b[0m\n",
       "\u001b[0mmp_drawing\u001b[0m\u001b[1;33m.\u001b[0m\u001b[0mDrawingSpec\u001b[0m\u001b[1;33m(\u001b[0m\u001b[1;33m\n",
       "\u001b[0m    \u001b[0mcolor\u001b[0m\u001b[1;33m:\u001b[0m \u001b[0mTuple\u001b[0m\u001b[1;33m[\u001b[0m\u001b[0mint\u001b[0m\u001b[1;33m,\u001b[0m \u001b[0mint\u001b[0m\u001b[1;33m,\u001b[0m \u001b[0mint\u001b[0m\u001b[1;33m]\u001b[0m \u001b[1;33m=\u001b[0m \u001b[1;33m(\u001b[0m\u001b[1;36m224\u001b[0m\u001b[1;33m,\u001b[0m \u001b[1;36m224\u001b[0m\u001b[1;33m,\u001b[0m \u001b[1;36m224\u001b[0m\u001b[1;33m)\u001b[0m\u001b[1;33m,\u001b[0m\u001b[1;33m\n",
       "\u001b[0m    \u001b[0mthickness\u001b[0m\u001b[1;33m:\u001b[0m \u001b[0mint\u001b[0m \u001b[1;33m=\u001b[0m \u001b[1;36m2\u001b[0m\u001b[1;33m,\u001b[0m\u001b[1;33m\n",
       "\u001b[0m    \u001b[0mcircle_radius\u001b[0m\u001b[1;33m:\u001b[0m \u001b[0mint\u001b[0m \u001b[1;33m=\u001b[0m \u001b[1;36m2\u001b[0m\u001b[1;33m,\u001b[0m\u001b[1;33m\n",
       "\u001b[0m\u001b[1;33m)\u001b[0m \u001b[1;33m->\u001b[0m \u001b[1;32mNone\u001b[0m\u001b[1;33m\u001b[0m\u001b[1;33m\u001b[0m\u001b[0m\n",
       "\u001b[1;31mDocstring:\u001b[0m      DrawingSpec(color: Tuple[int, int, int] = (224, 224, 224), thickness: int = 2, circle_radius: int = 2)\n",
       "\u001b[1;31mSource:\u001b[0m        \n",
       "\u001b[1;33m@\u001b[0m\u001b[0mdataclasses\u001b[0m\u001b[1;33m.\u001b[0m\u001b[0mdataclass\u001b[0m\u001b[1;33m\n",
       "\u001b[0m\u001b[1;32mclass\u001b[0m \u001b[0mDrawingSpec\u001b[0m\u001b[1;33m:\u001b[0m\u001b[1;33m\n",
       "\u001b[0m  \u001b[1;31m# Color for drawing the annotation. Default to the white color.\u001b[0m\u001b[1;33m\n",
       "\u001b[0m  \u001b[0mcolor\u001b[0m\u001b[1;33m:\u001b[0m \u001b[0mTuple\u001b[0m\u001b[1;33m[\u001b[0m\u001b[0mint\u001b[0m\u001b[1;33m,\u001b[0m \u001b[0mint\u001b[0m\u001b[1;33m,\u001b[0m \u001b[0mint\u001b[0m\u001b[1;33m]\u001b[0m \u001b[1;33m=\u001b[0m \u001b[0mWHITE_COLOR\u001b[0m\u001b[1;33m\n",
       "\u001b[0m  \u001b[1;31m# Thickness for drawing the annotation. Default to 2 pixels.\u001b[0m\u001b[1;33m\n",
       "\u001b[0m  \u001b[0mthickness\u001b[0m\u001b[1;33m:\u001b[0m \u001b[0mint\u001b[0m \u001b[1;33m=\u001b[0m \u001b[1;36m2\u001b[0m\u001b[1;33m\n",
       "\u001b[0m  \u001b[1;31m# Circle radius. Default to 2 pixels.\u001b[0m\u001b[1;33m\n",
       "\u001b[0m  \u001b[0mcircle_radius\u001b[0m\u001b[1;33m:\u001b[0m \u001b[0mint\u001b[0m \u001b[1;33m=\u001b[0m \u001b[1;36m2\u001b[0m\u001b[1;33m\u001b[0m\u001b[1;33m\u001b[0m\u001b[0m\n",
       "\u001b[1;31mFile:\u001b[0m           c:\\users\\kisha\\new folder\\lib\\site-packages\\mediapipe\\python\\solutions\\drawing_utils.py\n",
       "\u001b[1;31mType:\u001b[0m           type\n",
       "\u001b[1;31mSubclasses:\u001b[0m     \n"
      ]
     },
     "metadata": {},
     "output_type": "display_data"
    }
   ],
   "source": [
    "mp_drawing.DrawingSpec??"
   ]
  },
  {
   "cell_type": "code",
   "execution_count": 10,
   "id": "a1bf5111-1b37-4754-8e21-90d60760458a",
   "metadata": {},
   "outputs": [],
   "source": [
    "cap = cv2.VideoCapture(0)\n",
    "#Setup Mediapipe instance\n",
    "with mp_pose.Pose(min_detection_confidence=0.5, min_tracking_confidence=0.5) as pose:\n",
    "    while cap.isOpened():\n",
    "        ret, frame = cap.read()\n",
    "        \n",
    "        #Recolour image to RGB\n",
    "        image = cv2.cvtColor(frame, cv2.COLOR_BGR2RGB)\n",
    "        image.flags.writeable = False\n",
    "        #Make detection\n",
    "        results = pose.process(image)\n",
    "        #Recolour back to BGR\n",
    "        image.flags.writeable = True\n",
    "        image = cv2.cvtColor(image, cv2.COLOR_RGB2BGR)\n",
    "        \n",
    "        #Extract landmarks\n",
    "        try: \n",
    "            landmarks = results.pose_landmarks.landmark\n",
    "        except:\n",
    "            pass\n",
    "        \n",
    "        #Render detections\n",
    "        mp_drawing.draw_landmarks(image, results.pose_landmarks, mp_pose.POSE_CONNECTIONS,\n",
    "                                 mp_drawing.DrawingSpec(color=(245,117,66), thickness=2, circle_radius=2),\n",
    "                                 mp_drawing.DrawingSpec(color=(245,66,230), thickness=2, circle_radius=2))\n",
    "        \n",
    "        cv2.imshow('Mediapipe Feed', image)\n",
    "    \n",
    "        if cv2.waitKey(10) & 0xFF == ord('q'):\n",
    "            break\n",
    "        \n",
    "    cap.release()\n",
    "    cv2.destroyAllWindows()\n"
   ]
  },
  {
   "cell_type": "code",
   "execution_count": 11,
   "id": "f7c7f959-1de5-4715-81a2-28ce3c8bb2e8",
   "metadata": {},
   "outputs": [
    {
     "data": {
      "text/plain": [
       "33"
      ]
     },
     "execution_count": 11,
     "metadata": {},
     "output_type": "execute_result"
    }
   ],
   "source": [
    "len(landmarks)"
   ]
  },
  {
   "cell_type": "code",
   "execution_count": 12,
   "id": "52e737db-2068-48bf-8295-dbf70d7e4aaa",
   "metadata": {},
   "outputs": [
    {
     "data": {
      "text/plain": [
       "[x: 0.3955312967300415\n",
       "y: 0.49344316124916077\n",
       "z: -1.2054733037948608\n",
       "visibility: 0.999674379825592\n",
       ", x: 0.41136711835861206\n",
       "y: 0.4261389374732971\n",
       "z: -1.127252459526062\n",
       "visibility: 0.9993027448654175\n",
       ", x: 0.42636337876319885\n",
       "y: 0.4258784055709839\n",
       "z: -1.1277642250061035\n",
       "visibility: 0.9994227290153503\n",
       ", x: 0.4402408003807068\n",
       "y: 0.4254505932331085\n",
       "z: -1.128037691116333\n",
       "visibility: 0.9992533922195435\n",
       ", x: 0.3547991216182709\n",
       "y: 0.43244561553001404\n",
       "z: -1.1470553874969482\n",
       "visibility: 0.999210000038147\n",
       ", x: 0.3324076533317566\n",
       "y: 0.43672844767570496\n",
       "z: -1.1465520858764648\n",
       "visibility: 0.9993402361869812\n",
       ", x: 0.31117379665374756\n",
       "y: 0.44208770990371704\n",
       "z: -1.1470723152160645\n",
       "visibility: 0.9991720914840698\n",
       ", x: 0.4585595726966858\n",
       "y: 0.4557921290397644\n",
       "z: -0.641741156578064\n",
       "visibility: 0.9992896914482117\n",
       ", x: 0.2789280414581299\n",
       "y: 0.4833427369594574\n",
       "z: -0.6918028593063354\n",
       "visibility: 0.9993506073951721\n",
       ", x: 0.4289621412754059\n",
       "y: 0.5632137656211853\n",
       "z: -1.0155119895935059\n",
       "visibility: 0.999691903591156\n",
       ", x: 0.360201358795166\n",
       "y: 0.566857635974884\n",
       "z: -1.036431074142456\n",
       "visibility: 0.9996728897094727\n",
       ", x: 0.6142905950546265\n",
       "y: 0.825577437877655\n",
       "z: -0.3467932343482971\n",
       "visibility: 0.997096836566925\n",
       ", x: 0.148808091878891\n",
       "y: 0.8467971086502075\n",
       "z: -0.4544912874698639\n",
       "visibility: 0.9946480393409729\n",
       ", x: 0.7024761438369751\n",
       "y: 1.2503398656845093\n",
       "z: -0.36144155263900757\n",
       "visibility: 0.11601371318101883\n",
       ", x: 0.09617789834737778\n",
       "y: 1.3187336921691895\n",
       "z: -0.4755885601043701\n",
       "visibility: 0.12752947211265564\n",
       ", x: 0.6818796396255493\n",
       "y: 1.5813344717025757\n",
       "z: -0.8825877904891968\n",
       "visibility: 0.01841101050376892\n",
       ", x: 0.1087079793214798\n",
       "y: 1.6317678689956665\n",
       "z: -1.1458367109298706\n",
       "visibility: 0.019822746515274048\n",
       ", x: 0.7040294408798218\n",
       "y: 1.7045315504074097\n",
       "z: -1.036695122718811\n",
       "visibility: 0.027287358418107033\n",
       ", x: 0.08580673485994339\n",
       "y: 1.7470859289169312\n",
       "z: -1.328967809677124\n",
       "visibility: 0.026830684393644333\n",
       ", x: 0.659130871295929\n",
       "y: 1.7017284631729126\n",
       "z: -1.1284549236297607\n",
       "visibility: 0.04914375767111778\n",
       ", x: 0.12686491012573242\n",
       "y: 1.7452610731124878\n",
       "z: -1.4396218061447144\n",
       "visibility: 0.04723021760582924\n",
       ", x: 0.6420355439186096\n",
       "y: 1.6504344940185547\n",
       "z: -0.9447321891784668\n",
       "visibility: 0.04609283059835434\n",
       ", x: 0.1441669464111328\n",
       "y: 1.6932848691940308\n",
       "z: -1.2155320644378662\n",
       "visibility: 0.047239404171705246\n",
       ", x: 0.5618480443954468\n",
       "y: 1.64645516872406\n",
       "z: -0.06779200583696365\n",
       "visibility: 0.0005967760225757957\n",
       ", x: 0.25196272134780884\n",
       "y: 1.667253851890564\n",
       "z: 0.07281999289989471\n",
       "visibility: 0.0005166830378584564\n",
       ", x: 0.5744589567184448\n",
       "y: 2.3015551567077637\n",
       "z: 0.1233985647559166\n",
       "visibility: 0.0018806896405294538\n",
       ", x: 0.2816854417324066\n",
       "y: 2.320406675338745\n",
       "z: 0.19154971837997437\n",
       "visibility: 0.00048198417061939836\n",
       ", x: 0.5991770029067993\n",
       "y: 2.886701822280884\n",
       "z: 0.9482930898666382\n",
       "visibility: 0.00027055994723923504\n",
       ", x: 0.3231135606765747\n",
       "y: 2.896838665008545\n",
       "z: 0.8299522399902344\n",
       "visibility: 3.613668741309084e-05\n",
       ", x: 0.6090365648269653\n",
       "y: 2.9837958812713623\n",
       "z: 0.9933732151985168\n",
       "visibility: 0.00015619464102201164\n",
       ", x: 0.3265581727027893\n",
       "y: 2.99389910697937\n",
       "z: 0.8726240992546082\n",
       "visibility: 0.00010186697909375653\n",
       ", x: 0.5601221919059753\n",
       "y: 3.0801985263824463\n",
       "z: 0.3387574553489685\n",
       "visibility: 0.0001973664475372061\n",
       ", x: 0.3752451241016388\n",
       "y: 3.0792596340179443\n",
       "z: 0.1588313728570938\n",
       "visibility: 0.0001657143293414265\n",
       "]"
      ]
     },
     "execution_count": 12,
     "metadata": {},
     "output_type": "execute_result"
    }
   ],
   "source": [
    "landmarks"
   ]
  },
  {
   "cell_type": "code",
   "execution_count": 13,
   "id": "f16ff196-fb13-41ee-b9cb-5606781477ae",
   "metadata": {},
   "outputs": [
    {
     "name": "stdout",
     "output_type": "stream",
     "text": [
      "PoseLandmark.NOSE\n",
      "PoseLandmark.LEFT_EYE_INNER\n",
      "PoseLandmark.LEFT_EYE\n",
      "PoseLandmark.LEFT_EYE_OUTER\n",
      "PoseLandmark.RIGHT_EYE_INNER\n",
      "PoseLandmark.RIGHT_EYE\n",
      "PoseLandmark.RIGHT_EYE_OUTER\n",
      "PoseLandmark.LEFT_EAR\n",
      "PoseLandmark.RIGHT_EAR\n",
      "PoseLandmark.MOUTH_LEFT\n",
      "PoseLandmark.MOUTH_RIGHT\n",
      "PoseLandmark.LEFT_SHOULDER\n",
      "PoseLandmark.RIGHT_SHOULDER\n",
      "PoseLandmark.LEFT_ELBOW\n",
      "PoseLandmark.RIGHT_ELBOW\n",
      "PoseLandmark.LEFT_WRIST\n",
      "PoseLandmark.RIGHT_WRIST\n",
      "PoseLandmark.LEFT_PINKY\n",
      "PoseLandmark.RIGHT_PINKY\n",
      "PoseLandmark.LEFT_INDEX\n",
      "PoseLandmark.RIGHT_INDEX\n",
      "PoseLandmark.LEFT_THUMB\n",
      "PoseLandmark.RIGHT_THUMB\n",
      "PoseLandmark.LEFT_HIP\n",
      "PoseLandmark.RIGHT_HIP\n",
      "PoseLandmark.LEFT_KNEE\n",
      "PoseLandmark.RIGHT_KNEE\n",
      "PoseLandmark.LEFT_ANKLE\n",
      "PoseLandmark.RIGHT_ANKLE\n",
      "PoseLandmark.LEFT_HEEL\n",
      "PoseLandmark.RIGHT_HEEL\n",
      "PoseLandmark.LEFT_FOOT_INDEX\n",
      "PoseLandmark.RIGHT_FOOT_INDEX\n"
     ]
    }
   ],
   "source": [
    "for lndmrk in mp_pose.PoseLandmark:\n",
    "    print(lndmrk)"
   ]
  },
  {
   "cell_type": "code",
   "execution_count": 14,
   "id": "b4c450ac-b34f-426f-96ff-fb357feeb310",
   "metadata": {},
   "outputs": [
    {
     "data": {
      "text/plain": [
       "x: 0.6142905950546265\n",
       "y: 0.825577437877655\n",
       "z: -0.3467932343482971\n",
       "visibility: 0.997096836566925"
      ]
     },
     "execution_count": 14,
     "metadata": {},
     "output_type": "execute_result"
    }
   ],
   "source": [
    "landmarks[mp_pose.PoseLandmark.LEFT_SHOULDER.value]"
   ]
  },
  {
   "cell_type": "code",
   "execution_count": 15,
   "id": "564944d9-f1e0-44c8-a39f-9fd4bc761ada",
   "metadata": {},
   "outputs": [
    {
     "data": {
      "text/plain": [
       "<PoseLandmark.LEFT_SHOULDER: 11>"
      ]
     },
     "execution_count": 15,
     "metadata": {},
     "output_type": "execute_result"
    }
   ],
   "source": [
    "mp_pose.PoseLandmark.LEFT_SHOULDER"
   ]
  },
  {
   "cell_type": "code",
   "execution_count": 16,
   "id": "8a62a9e9-e74c-45ce-b726-f7b514645392",
   "metadata": {},
   "outputs": [
    {
     "data": {
      "text/plain": [
       "x: 0.7024761438369751\n",
       "y: 1.2503398656845093\n",
       "z: -0.36144155263900757\n",
       "visibility: 0.11601371318101883"
      ]
     },
     "execution_count": 16,
     "metadata": {},
     "output_type": "execute_result"
    }
   ],
   "source": [
    "landmarks[mp_pose.PoseLandmark.LEFT_ELBOW.value]"
   ]
  },
  {
   "cell_type": "code",
   "execution_count": 17,
   "id": "24dc2f05-92f9-421a-8a9d-21edf78a3c30",
   "metadata": {},
   "outputs": [
    {
     "data": {
      "text/plain": [
       "<PoseLandmark.LEFT_ELBOW: 13>"
      ]
     },
     "execution_count": 17,
     "metadata": {},
     "output_type": "execute_result"
    }
   ],
   "source": [
    "mp_pose.PoseLandmark.LEFT_ELBOW"
   ]
  },
  {
   "cell_type": "code",
   "execution_count": 18,
   "id": "1fa2d6e6-9ab5-4b14-950d-622eef30f1d9",
   "metadata": {},
   "outputs": [
    {
     "data": {
      "text/plain": [
       "x: 0.6818796396255493\n",
       "y: 1.5813344717025757\n",
       "z: -0.8825877904891968\n",
       "visibility: 0.01841101050376892"
      ]
     },
     "execution_count": 18,
     "metadata": {},
     "output_type": "execute_result"
    }
   ],
   "source": [
    "landmarks[mp_pose.PoseLandmark.LEFT_WRIST.value]"
   ]
  },
  {
   "cell_type": "code",
   "execution_count": 19,
   "id": "74b0dbf4-1451-4d65-a01b-e144f3256c8c",
   "metadata": {},
   "outputs": [
    {
     "data": {
      "text/plain": [
       "<PoseLandmark.LEFT_WRIST: 15>"
      ]
     },
     "execution_count": 19,
     "metadata": {},
     "output_type": "execute_result"
    }
   ],
   "source": [
    "mp_pose.PoseLandmark.LEFT_WRIST"
   ]
  },
  {
   "cell_type": "code",
   "execution_count": 20,
   "id": "fc97560c-fce0-467e-be3a-5bad93a0ec13",
   "metadata": {},
   "outputs": [],
   "source": [
    "def calculate_angle(a,b,c):\n",
    "    a = np.array(a) #Shoulder\n",
    "    b = np.array(b) #Elbow\n",
    "    c = np.array(c) #Wrist\n",
    "    \n",
    "    radians = np.arctan2(c[1]-b[1], c[0]-b[0]) - np.arctan2(a[1]-b[1], a[0]-b[0])\n",
    "    angle = np.abs(radians*180.0/np.pi)\n",
    "    \n",
    "    if angle >180.0:\n",
    "        angle = 360-angle\n",
    "        \n",
    "    return angle"
   ]
  },
  {
   "cell_type": "code",
   "execution_count": 21,
   "id": "e1c496e0-d459-4825-9156-e8778becbbe6",
   "metadata": {},
   "outputs": [],
   "source": [
    "shoulder = [landmarks[mp_pose.PoseLandmark.LEFT_SHOULDER.value].x,landmarks[mp_pose.PoseLandmark.LEFT_SHOULDER.value].y]\n",
    "elbow = [landmarks[mp_pose.PoseLandmark.LEFT_ELBOW.value].x,landmarks[mp_pose.PoseLandmark.LEFT_ELBOW.value].y]\n",
    "wrist = [landmarks[mp_pose.PoseLandmark.LEFT_WRIST.value].x,landmarks[mp_pose.PoseLandmark.LEFT_WRIST.value].y]\n"
   ]
  },
  {
   "cell_type": "code",
   "execution_count": 22,
   "id": "0564796d-58a5-40bf-a85a-5bbc79b79a8a",
   "metadata": {},
   "outputs": [
    {
     "data": {
      "text/plain": [
       "([0.6142905950546265, 0.825577437877655],\n",
       " [0.7024761438369751, 1.2503398656845093],\n",
       " [0.6818796396255493, 1.5813344717025757])"
      ]
     },
     "execution_count": 22,
     "metadata": {},
     "output_type": "execute_result"
    }
   ],
   "source": [
    "shoulder, elbow, wrist"
   ]
  },
  {
   "cell_type": "code",
   "execution_count": 23,
   "id": "2dab7e48-6549-45af-b116-cf674bd589a9",
   "metadata": {},
   "outputs": [
    {
     "data": {
      "text/plain": [
       "164.71065447582387"
      ]
     },
     "execution_count": 23,
     "metadata": {},
     "output_type": "execute_result"
    }
   ],
   "source": [
    "calculate_angle(shoulder, elbow, wrist)"
   ]
  },
  {
   "cell_type": "code",
   "execution_count": 24,
   "id": "e426baf6-d428-44c6-8956-89c02ae5c2f2",
   "metadata": {},
   "outputs": [],
   "source": [
    "cap = cv2.VideoCapture(0)\n",
    "#Setup Mediapipe instance\n",
    "with mp_pose.Pose(min_detection_confidence=0.5, min_tracking_confidence=0.5) as pose:\n",
    "    while cap.isOpened():\n",
    "        ret, frame = cap.read()\n",
    "        \n",
    "        #Recolour image to RGB\n",
    "        image = cv2.cvtColor(frame, cv2.COLOR_BGR2RGB)\n",
    "        image.flags.writeable = False\n",
    "        #Make detection\n",
    "        results = pose.process(image)\n",
    "        #Recolour back to BGR\n",
    "        image.flags.writeable = True\n",
    "        image = cv2.cvtColor(image, cv2.COLOR_RGB2BGR)\n",
    "        \n",
    "        #Extract landmarks\n",
    "        try: \n",
    "            landmarks = results.pose_landmarks.landmark\n",
    "            \n",
    "            #Get coordinates of landmarks\n",
    "            shoulder = [landmarks[mp_pose.PoseLandmark.LEFT_SHOULDER.value].x,landmarks[mp_pose.PoseLandmark.LEFT_SHOULDER.value].y]\n",
    "            elbow = [landmarks[mp_pose.PoseLandmark.LEFT_ELBOW.value].x,landmarks[mp_pose.PoseLandmark.LEFT_ELBOW.value].y]\n",
    "            wrist = [landmarks[mp_pose.PoseLandmark.LEFT_WRIST.value].x,landmarks[mp_pose.PoseLandmark.LEFT_WRIST.value].y]\n",
    "            \n",
    "            #Calculate angle\n",
    "            angle = calculate_angle(shoulder, elbow, wrist)\n",
    "            \n",
    "            #Visualize\n",
    "            cv2.putText(image, str(angle),\n",
    "                        tuple(np.multiply(elbow, [640, 480]).astype(int)),\n",
    "                        cv2.FONT_HERSHEY_SIMPLEX, 0.5, (255, 255, 255), 2, cv2.LINE_AA)\n",
    "        except:\n",
    "            pass\n",
    "        \n",
    "        #Render detections\n",
    "        mp_drawing.draw_landmarks(image, results.pose_landmarks, mp_pose.POSE_CONNECTIONS,\n",
    "                                 mp_drawing.DrawingSpec(color=(245,117,66), thickness=2, circle_radius=2),\n",
    "                                 mp_drawing.DrawingSpec(color=(245,66,230), thickness=2, circle_radius=2))\n",
    "        \n",
    "        cv2.imshow('Mediapipe Feed', image)\n",
    "    \n",
    "        if cv2.waitKey(10) & 0xFF == ord('q'):\n",
    "            break\n",
    "        \n",
    "    cap.release()\n",
    "    cv2.destroyAllWindows()\n"
   ]
  },
  {
   "cell_type": "code",
   "execution_count": null,
   "id": "e6d07e4f-118d-4024-954d-89a3a082813e",
   "metadata": {},
   "outputs": [
    {
     "name": "stdout",
     "output_type": "stream",
     "text": [
      "1\n",
      "2\n",
      "3\n",
      "4\n",
      "5\n",
      "6\n",
      "7\n",
      "8\n",
      "9\n",
      "10\n",
      "11\n"
     ]
    }
   ],
   "source": [
    "cap = cv2.VideoCapture(0)\n",
    "\n",
    "#Curl Counter Variables\n",
    "counter = 0\n",
    "stage = None\n",
    "\n",
    "#Setup Mediapipe instance\n",
    "with mp_pose.Pose(min_detection_confidence=0.5, min_tracking_confidence=0.5) as pose:\n",
    "    while cap.isOpened():\n",
    "        ret, frame = cap.read()\n",
    "        \n",
    "        #Recolour image to RGB\n",
    "        image = cv2.cvtColor(frame, cv2.COLOR_BGR2RGB)\n",
    "        image.flags.writeable = False\n",
    "        #Make detection\n",
    "        results = pose.process(image)\n",
    "        #Recolour back to BGR\n",
    "        image.flags.writeable = True\n",
    "        image = cv2.cvtColor(image, cv2.COLOR_RGB2BGR)\n",
    "        \n",
    "        #Extract landmarks\n",
    "        try: \n",
    "            landmarks = results.pose_landmarks.landmark\n",
    "            \n",
    "            #Get coordinates of landmarks\n",
    "            shoulder = [landmarks[mp_pose.PoseLandmark.LEFT_SHOULDER.value].x,landmarks[mp_pose.PoseLandmark.LEFT_SHOULDER.value].y]\n",
    "            elbow = [landmarks[mp_pose.PoseLandmark.LEFT_ELBOW.value].x,landmarks[mp_pose.PoseLandmark.LEFT_ELBOW.value].y]\n",
    "            wrist = [landmarks[mp_pose.PoseLandmark.LEFT_WRIST.value].x,landmarks[mp_pose.PoseLandmark.LEFT_WRIST.value].y]\n",
    "            \n",
    "            #Calculate angle\n",
    "            angle = calculate_angle(shoulder, elbow, wrist)\n",
    "            \n",
    "            #Visualize\n",
    "            cv2.putText(image, str(angle),\n",
    "                        tuple(np.multiply(elbow, [640, 480]).astype(int)),\n",
    "                        cv2.FONT_HERSHEY_SIMPLEX, 0.5, (255, 255, 255), 2, cv2.LINE_AA)\n",
    "            #Curl Counter\n",
    "            if angle > 160:\n",
    "                stage = \"Down\"\n",
    "            if angle < 30 and stage == \"Down\":\n",
    "                stage = \"Up\"\n",
    "                counter += 1\n",
    "                print(counter)\n",
    "                \n",
    "            #Display Status Box\n",
    "            cv2.rectangle(image, (0,0), (325,100), (245,117,42), -1)\n",
    "            \n",
    "            #Display Reps\n",
    "            cv2.putText(image, 'REPS: ', (15,30), \n",
    "                        cv2.FONT_HERSHEY_SIMPLEX, 1, (255, 255, 255), 1, cv2.LINE_AA)\n",
    "            cv2.putText(image, str(counter), (10,90),\n",
    "                        cv2.FONT_HERSHEY_SIMPLEX, 2, (255, 255, 255), 2, cv2.LINE_AA)\n",
    "            \n",
    "            #Display Stage\n",
    "            cv2.putText(image, 'STAGE: ', (135,30), \n",
    "                        cv2.FONT_HERSHEY_SIMPLEX, 1, (255, 255, 255), 1, cv2.LINE_AA)\n",
    "            cv2.putText(image, stage, (130,90),\n",
    "                        cv2.FONT_HERSHEY_SIMPLEX, 2, (255, 255, 255), 2, cv2.LINE_AA)\n",
    "            \n",
    "        except:\n",
    "            pass\n",
    "        \n",
    "        #Render detections\n",
    "        mp_drawing.draw_landmarks(image, results.pose_landmarks, mp_pose.POSE_CONNECTIONS,\n",
    "                                 mp_drawing.DrawingSpec(color=(245,117,66), thickness=2, circle_radius=2),\n",
    "                                 mp_drawing.DrawingSpec(color=(245,66,230), thickness=2, circle_radius=2))\n",
    "        \n",
    "        cv2.imshow('Mediapipe Feed', image)\n",
    "    \n",
    "        if cv2.waitKey(10) & 0xFF == ord('q'):\n",
    "            break\n",
    "        \n",
    "    cap.release()\n",
    "    cv2.destroyAllWindows()\n"
   ]
  },
  {
   "cell_type": "code",
   "execution_count": null,
   "id": "ef63a61a-7a5e-4277-b262-57f65a385b3b",
   "metadata": {},
   "outputs": [],
   "source": []
  }
 ],
 "metadata": {
  "kernelspec": {
   "display_name": "Python 3 (ipykernel)",
   "language": "python",
   "name": "python3"
  },
  "language_info": {
   "codemirror_mode": {
    "name": "ipython",
    "version": 3
   },
   "file_extension": ".py",
   "mimetype": "text/x-python",
   "name": "python",
   "nbconvert_exporter": "python",
   "pygments_lexer": "ipython3",
   "version": "3.9.13"
  }
 },
 "nbformat": 4,
 "nbformat_minor": 5
}
